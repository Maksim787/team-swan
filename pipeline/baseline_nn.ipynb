{
 "cells": [
  {
   "attachments": {},
   "cell_type": "markdown",
   "metadata": {},
   "source": [
    "# Imports"
   ]
  },
  {
   "cell_type": "code",
   "execution_count": 1,
   "metadata": {
    "collapsed": false,
    "pycharm": {
     "name": "#%%\n"
    }
   },
   "outputs": [
    {
     "name": "stderr",
     "output_type": "stream",
     "text": [
      "Failed to detect the name of this notebook, you can set it manually with the WANDB_NOTEBOOK_NAME environment variable to enable code saving.\n",
      "\u001b[34m\u001b[1mwandb\u001b[0m: Currently logged in as: \u001b[33mkazadaevms\u001b[0m. Use \u001b[1m`wandb login --relogin`\u001b[0m to force relogin\n"
     ]
    },
    {
     "data": {
      "text/plain": [
       "device(type='cuda', index=0)"
      ]
     },
     "execution_count": 1,
     "metadata": {},
     "output_type": "execute_result"
    }
   ],
   "source": [
    "import wandb\n",
    "import numpy as np\n",
    "import pandas as pd\n",
    "import matplotlib.pyplot as plt\n",
    "import seaborn as sns\n",
    "import torch\n",
    "from torch import nn\n",
    "\n",
    "wandb.login()\n",
    "device = torch.device('cuda:0' if torch.cuda.is_available() else 'cpu')\n",
    "assert device.type == 'cuda'\n",
    "device"
   ]
  },
  {
   "attachments": {},
   "cell_type": "markdown",
   "metadata": {},
   "source": [
    "# Train Loop"
   ]
  },
  {
   "cell_type": "code",
   "execution_count": 2,
   "metadata": {
    "collapsed": false,
    "pycharm": {
     "name": "#%%\n"
    }
   },
   "outputs": [],
   "source": [
    "from timeit import default_timer as timer\n",
    "from IPython.display import clear_output\n",
    "from tqdm.notebook import tqdm\n",
    "\n",
    "\n",
    "def train_loop(model, optimizer, criterion, train_loader) -> float:\n",
    "    train_loss, train_accuracy = 0.0, 0.0\n",
    "    model.train()\n",
    "    for images, labels in tqdm(train_loader, desc='Training'):\n",
    "        images = images.to(device)\n",
    "        labels = labels.to(device)\n",
    "\n",
    "        optimizer.zero_grad()\n",
    "        # images: batch_size x num_channels x height x width\n",
    "        logits = model(images)\n",
    "        # logits: batch_size x num_classes\n",
    "        loss = criterion(logits, labels)\n",
    "        loss.backward()\n",
    "        optimizer.step()\n",
    "\n",
    "        train_loss += loss.item() * images.shape[0]\n",
    "        train_accuracy += (logits.argmax(dim=1) == labels).sum().item()\n",
    "\n",
    "    train_loss /= len(train_loader.dataset)\n",
    "    train_accuracy /= len(train_loader.dataset)\n",
    "    return train_loss, train_accuracy\n",
    "\n",
    "\n",
    "@torch.no_grad()\n",
    "def val_loop(model, criterion, val_loader) -> float:\n",
    "    \"\"\"\n",
    "    Return RMSE\n",
    "    \"\"\"\n",
    "    val_loss, val_accuracy = 0.0, 0.0\n",
    "    model.eval()\n",
    "    for images, labels in tqdm(val_loader, desc='Validating'):\n",
    "        images = images.to(device)\n",
    "        labels = labels.to(device)\n",
    "\n",
    "        with torch.no_grad():\n",
    "            logits = model(images)\n",
    "            # logits: batch_size x num_classes\n",
    "            loss = criterion(logits, labels)\n",
    "\n",
    "        val_loss += loss.item() * images.shape[0]\n",
    "        val_accuracy += (logits.argmax(dim=1) == labels).sum().item()\n",
    "\n",
    "    val_loss /= len(val_loader.dataset)\n",
    "    val_accuracy /= len(val_loader.dataset)\n",
    "    return val_loss, val_accuracy\n",
    "\n",
    "\n",
    "def plot(epochs: list[int], train_losses: list[float], val_losses: list[float], baseline_rmse: float, plot_baseline: bool):\n",
    "    if plot_baseline:\n",
    "        plt.axhline(baseline_rmse, linestyle='dashed', label='baseline')\n",
    "    plt.plot(epochs, train_losses, label='train')\n",
    "    plt.plot(epochs, val_losses, label='test')\n",
    "    plt.title('RMSE')\n",
    "    plt.ylabel('RMSE')\n",
    "    plt.xlabel('Epoch')\n",
    "    plt.legend(loc='upper right')\n",
    "    plt.show()\n",
    "\n",
    "\n",
    "def plot_losses(train_losses, val_losses, train_accuracies, val_accuracies):\n",
    "    clear_output()\n",
    "    assert len(train_losses) == len(val_losses) == len(train_accuracies) == len(val_accuracies)\n",
    "    fig, axs = plt.subplots(1, 2, figsize=(13, 4))\n",
    "    x_epochs = list(range(1, len(train_losses) + 1))\n",
    "    axs[0].plot(x_epochs, train_losses, label='train')\n",
    "    axs[0].plot(x_epochs, val_losses, label='val')\n",
    "    axs[0].set_xticks(x_epochs, labels=x_epochs)\n",
    "    axs[0].set_ylabel('loss')\n",
    "\n",
    "    axs[1].plot(range(1, len(train_accuracies) + 1), train_accuracies, label='train')\n",
    "    axs[1].plot(range(1, len(val_accuracies) + 1), val_accuracies, label='val')\n",
    "    axs[1].set_xticks(x_epochs, labels=x_epochs)\n",
    "    axs[1].set_ylabel('accuracy')\n",
    "\n",
    "    for ax in axs:\n",
    "        ax.set_xlabel('epoch')\n",
    "        ax.legend()\n",
    "\n",
    "    plt.show()\n",
    "\n",
    "\n",
    "def train_nn(model, optimizer, criterion, scheduler, train_loader, val_loader, n_epochs: int, log_wandb: bool):\n",
    "    train_losses, train_accuracies, val_losses, val_accuracies = [], [], [], []\n",
    "    lrs = []\n",
    "\n",
    "    for epoch in range(1, n_epochs + 1):\n",
    "        # Train\n",
    "        start_time = timer()\n",
    "        train_loss, train_accuracy = train_loop(model, optimizer, criterion, train_loader)\n",
    "        train_time = timer() - start_time\n",
    "        train_losses += [train_loss]\n",
    "        train_accuracies += [train_accuracy]\n",
    "\n",
    "        # Validation\n",
    "        start_time = timer()\n",
    "        val_loss, val_accuracy = val_loop(model, criterion, val_loader)\n",
    "        val_time = timer() - start_time\n",
    "        val_losses += [val_loss]\n",
    "        val_accuracies += [val_accuracy]\n",
    "\n",
    "        # Log lr used on current epoch\n",
    "        lr = next(iter(optimizer.param_groups))['lr']\n",
    "        lrs.append(lr)\n",
    "\n",
    "        # Scheduler\n",
    "        if scheduler is not None:\n",
    "            scheduler.step(val_loss)\n",
    "\n",
    "        # Log record\n",
    "        record = {\n",
    "            'train_loss': train_loss,\n",
    "            'val_loss': val_loss,\n",
    "            'lr': lr,\n",
    "            'train_time': train_time,\n",
    "            'val_time': val_time,\n",
    "        }\n",
    "        if log_wandb:\n",
    "            wandb.log(record)\n",
    "\n",
    "        # Plot\n",
    "        plot_losses(train_losses, val_losses, train_accuracies, val_accuracies)\n",
    "    if log_wandb:\n",
    "        wandb.finish()"
   ]
  },
  {
   "attachments": {},
   "cell_type": "markdown",
   "metadata": {},
   "source": [
    "# Data (TODO: IMPORT HERE DATALOADERS)"
   ]
  },
  {
   "cell_type": "code",
   "execution_count": 4,
   "metadata": {},
   "outputs": [
    {
     "data": {
      "application/vnd.jupyter.widget-view+json": {
       "model_id": "dd478613d3614e70a23414f191c68331",
       "version_major": 2,
       "version_minor": 0
      },
      "text/plain": [
       "  0%|          | 0/2268 [00:00<?, ?it/s]"
      ]
     },
     "metadata": {},
     "output_type": "display_data"
    },
    {
     "data": {
      "application/vnd.jupyter.widget-view+json": {
       "model_id": "9871a5b7c8ce4daf87907a5835e4b1c4",
       "version_major": 2,
       "version_minor": 0
      },
      "text/plain": [
       "  0%|          | 0/2258 [00:00<?, ?it/s]"
      ]
     },
     "metadata": {},
     "output_type": "display_data"
    },
    {
     "data": {
      "application/vnd.jupyter.widget-view+json": {
       "model_id": "007f58ef32044efc84a2ea5e9f3c4d61",
       "version_major": 2,
       "version_minor": 0
      },
      "text/plain": [
       "  0%|          | 0/2251 [00:00<?, ?it/s]"
      ]
     },
     "metadata": {},
     "output_type": "display_data"
    },
    {
     "data": {
      "application/vnd.jupyter.widget-view+json": {
       "model_id": "800df98af1444836a88b428618b23b6e",
       "version_major": 2,
       "version_minor": 0
      },
      "text/plain": [
       "  0%|          | 0/757 [00:00<?, ?it/s]"
      ]
     },
     "metadata": {},
     "output_type": "display_data"
    },
    {
     "data": {
      "application/vnd.jupyter.widget-view+json": {
       "model_id": "cff4830b564b43cda48f04ec7a4a11d9",
       "version_major": 2,
       "version_minor": 0
      },
      "text/plain": [
       "  0%|          | 0/753 [00:00<?, ?it/s]"
      ]
     },
     "metadata": {},
     "output_type": "display_data"
    },
    {
     "data": {
      "application/vnd.jupyter.widget-view+json": {
       "model_id": "e4b09450055840bf804336367413491c",
       "version_major": 2,
       "version_minor": 0
      },
      "text/plain": [
       "  0%|          | 0/751 [00:00<?, ?it/s]"
      ]
     },
     "metadata": {},
     "output_type": "display_data"
    },
    {
     "name": "stdout",
     "output_type": "stream",
     "text": [
      "Train size: 6777. Val size: 2261. Val ratio: 25.02%\n"
     ]
    }
   ],
   "source": [
    "import torchvision.transforms as T\n",
    "from loader import get_dataloaders\n",
    "\n",
    "# make dataloaders\n",
    "TARGET_SIZE = 32\n",
    "transform = T.Compose([T.ToTensor(), T.Resize((TARGET_SIZE, TARGET_SIZE))])\n",
    "train_loader, val_loader = get_dataloaders('../data', train_transform=transform, test_transform=transform, load_to_ram=True)\n",
    "\n",
    "# show dataset size\n",
    "TRAIN_SIZE = len(train_loader.dataset)\n",
    "VAL_SIZE = len(val_loader.dataset)\n",
    "print(f'Train size: {TRAIN_SIZE}. Val size: {VAL_SIZE}. Val ratio: {VAL_SIZE / (TRAIN_SIZE + VAL_SIZE) * 100:.2f}%')"
   ]
  },
  {
   "attachments": {},
   "cell_type": "markdown",
   "metadata": {},
   "source": [
    "# Model"
   ]
  },
  {
   "cell_type": "code",
   "execution_count": 5,
   "metadata": {
    "collapsed": false,
    "pycharm": {
     "name": "#%%\n"
    }
   },
   "outputs": [],
   "source": [
    "class LeNet(nn.Module):\n",
    "    N_CLASSES = 3\n",
    "\n",
    "    def __init__(self, image_channels=1):\n",
    "        super().__init__()\n",
    "        self.encoder = nn.Sequential(  # 32 x 32\n",
    "            nn.Conv2d(in_channels=image_channels, out_channels=6, kernel_size=5),  # 28 x 28\n",
    "            nn.Tanh(),\n",
    "            nn.AvgPool2d(2),  # 14 x 14\n",
    "            nn.Conv2d(in_channels=6, out_channels=16, kernel_size=5),  # 10 x 10\n",
    "            nn.Tanh(),\n",
    "            nn.AvgPool2d(2),  # 5 x 5\n",
    "            nn.Conv2d(in_channels=16, out_channels=120, kernel_size=5)  # 1 x 1\n",
    "        )\n",
    "\n",
    "        self.head = nn.Sequential(\n",
    "            nn.Linear(in_features=120, out_features=84),\n",
    "            nn.Tanh(),\n",
    "            nn.Linear(in_features=84, out_features=self.N_CLASSES)\n",
    "        )\n",
    "\n",
    "    def forward(self, x):\n",
    "        # x: B x 1 x 32 x 32\n",
    "        out = self.encoder(x)\n",
    "        # out: B x 120 x 1 x 1\n",
    "        out = out.squeeze(-1).squeeze(-1)\n",
    "        # out: B x 120\n",
    "        out = self.head(out)\n",
    "        # out: B x 10\n",
    "        return out"
   ]
  },
  {
   "attachments": {},
   "cell_type": "markdown",
   "metadata": {},
   "source": [
    "# Actual training"
   ]
  },
  {
   "cell_type": "code",
   "execution_count": 7,
   "metadata": {
    "collapsed": false,
    "pycharm": {
     "name": "#%%\n"
    }
   },
   "outputs": [
    {
     "data": {
      "image/png": "[encoded data removed]",
      "text/plain": [
       "<Figure size 1300x400 with 2 Axes>"
      ]
     },
     "metadata": {},
     "output_type": "display_data"
    },
    {
     "name": "stdout",
     "output_type": "stream",
     "text": [
      "Success\n"
     ]
    }
   ],
   "source": [
    "LOG_WANDB = False\n",
    "N_EPOCHS = 20\n",
    "IMAGE_CHANNELS = 3\n",
    "\n",
    "model = LeNet(image_channels=IMAGE_CHANNELS).to(device)\n",
    "\n",
    "LR = 1e-2\n",
    "MOMENTUM = 0.9\n",
    "optimizer = torch.optim.SGD(model.parameters(), lr=LR, momentum=MOMENTUM)\n",
    "scheduler = torch.optim.lr_scheduler.CosineAnnealingLR(optimizer, T_max=N_EPOCHS)\n",
    "criterion = nn.CrossEntropyLoss()\n",
    "\n",
    "experiment_name = f'MNIST'\n",
    "notes = f'''\n",
    "Optimizer: SGD({LR=}, {MOMENTUM=})\n",
    "Scheduler: CosineAnnealingLR(T_max={N_EPOCHS})\n",
    "'''\n",
    "\n",
    "if LOG_WANDB:\n",
    "    wandb.init(\n",
    "        project='Oil neural network',\n",
    "        name=experiment_name,\n",
    "        notes=notes\n",
    "    )\n",
    "\n",
    "try:\n",
    "    torch.manual_seed(0)\n",
    "    train_nn(model, optimizer, criterion, scheduler, train_loader=train_loader, val_loader=val_loader, n_epochs=N_EPOCHS, log_wandb=LOG_WANDB)\n",
    "except KeyboardInterrupt:\n",
    "    print('KeyboardInterrupt')\n",
    "    if LOG_WANDB:\n",
    "        wandb.finish()\n",
    "\n",
    "print('Success')"
   ]
  },
  {
   "cell_type": "code",
   "execution_count": null,
   "metadata": {
    "collapsed": false,
    "pycharm": {
     "name": "#%%\n"
    }
   },
   "outputs": [],
   "source": []
  }
 ],
 "metadata": {
  "kernelspec": {
   "display_name": "Python 3",
   "language": "python",
   "name": "python3"
  },
  "language_info": {
   "codemirror_mode": {
    "name": "ipython",
    "version": 3
   },
   "file_extension": ".py",
   "mimetype": "text/x-python",
   "name": "python",
   "nbconvert_exporter": "python",
   "pygments_lexer": "ipython3",
   "version": "3.10.10"
  }
 },
 "nbformat": 4,
 "nbformat_minor": 0
}
