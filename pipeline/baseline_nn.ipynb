{
 "cells": [
  {
   "attachments": {},
   "cell_type": "markdown",
   "metadata": {},
   "source": [
    "# Imports"
   ]
  },
  {
   "cell_type": "code",
   "execution_count": 10,
   "metadata": {
    "collapsed": false,
    "pycharm": {
     "name": "#%%\n"
    }
   },
   "outputs": [
    {
     "data": {
      "text/plain": [
       "device(type='cuda', index=0)"
      ]
     },
     "execution_count": 10,
     "metadata": {},
     "output_type": "execute_result"
    }
   ],
   "source": [
    "import wandb\n",
    "import numpy as np\n",
    "import pandas as pd\n",
    "import matplotlib.pyplot as plt\n",
    "import seaborn as sns\n",
    "import torch\n",
    "from torch import nn\n",
    "\n",
    "wandb.login()\n",
    "device = torch.device('cuda:0' if torch.cuda.is_available() else 'cpu')\n",
    "assert device.type == 'cuda'\n",
    "device"
   ]
  },
  {
   "attachments": {},
   "cell_type": "markdown",
   "metadata": {},
   "source": [
    "# Train Loop"
   ]
  },
  {
   "cell_type": "code",
   "execution_count": 11,
   "metadata": {},
   "outputs": [
    {
     "data": {
      "text/html": [
       "<div>\n",
       "<style scoped>\n",
       "    .dataframe tbody tr th:only-of-type {\n",
       "        vertical-align: middle;\n",
       "    }\n",
       "\n",
       "    .dataframe tbody tr th {\n",
       "        vertical-align: top;\n",
       "    }\n",
       "\n",
       "    .dataframe thead th {\n",
       "        text-align: right;\n",
       "    }\n",
       "</style>\n",
       "<table border=\"1\" class=\"dataframe\">\n",
       "  <thead>\n",
       "    <tr style=\"text-align: right;\">\n",
       "      <th></th>\n",
       "      <th>pred_0</th>\n",
       "      <th>pred_1</th>\n",
       "      <th>pred_2</th>\n",
       "    </tr>\n",
       "  </thead>\n",
       "  <tbody>\n",
       "    <tr>\n",
       "      <th>true_0</th>\n",
       "      <td>0.750000</td>\n",
       "      <td>0.250000</td>\n",
       "      <td>0.000000</td>\n",
       "    </tr>\n",
       "    <tr>\n",
       "      <th>true_1</th>\n",
       "      <td>0.000000</td>\n",
       "      <td>0.666667</td>\n",
       "      <td>0.333333</td>\n",
       "    </tr>\n",
       "    <tr>\n",
       "      <th>true_2</th>\n",
       "      <td>0.333333</td>\n",
       "      <td>0.000000</td>\n",
       "      <td>0.666667</td>\n",
       "    </tr>\n",
       "  </tbody>\n",
       "</table>\n",
       "</div>"
      ],
      "text/plain": [
       "          pred_0    pred_1    pred_2\n",
       "true_0  0.750000  0.250000  0.000000\n",
       "true_1  0.000000  0.666667  0.333333\n",
       "true_2  0.333333  0.000000  0.666667"
      ]
     },
     "execution_count": 11,
     "metadata": {},
     "output_type": "execute_result"
    }
   ],
   "source": [
    "from sklearn.metrics import confusion_matrix\n",
    "\n",
    "\n",
    "def get_confusion_matrix(predicted_labels, true_labels):\n",
    "    error_matrix = confusion_matrix(true_labels, predicted_labels, normalize='true')\n",
    "    return pd.DataFrame(error_matrix, index=[f'true_{i}' for i in range(3)], columns=[f'pred_{i}' for i in range(3)])\n",
    "\n",
    "\n",
    "get_confusion_matrix(np.array([0, 1, 2, 1, 0, 2, 0, 1, 2, 0]), np.array([0, 1, 2, 1, 0, 1, 2, 0, 2, 0]))"
   ]
  },
  {
   "cell_type": "code",
   "execution_count": 21,
   "metadata": {
    "collapsed": false,
    "pycharm": {
     "name": "#%%\n"
    }
   },
   "outputs": [],
   "source": [
    "from timeit import default_timer as timer\n",
    "from IPython.display import clear_output\n",
    "from tqdm.notebook import tqdm\n",
    "\n",
    "\n",
    "def train_loop(model, optimizer, criterion, train_loader) -> tuple:\n",
    "    train_loss, train_accuracy = 0.0, 0.0\n",
    "    predicted_labels = []\n",
    "    true_labels = []\n",
    "\n",
    "    model.train()\n",
    "\n",
    "    for images, labels in tqdm(train_loader, desc='Training'):\n",
    "        images = images.to(device)\n",
    "        labels = labels.to(device)\n",
    "\n",
    "        optimizer.zero_grad()\n",
    "        # images: batch_size x num_channels x height x width\n",
    "        logits = model(images)\n",
    "        # logits: batch_size x num_classes\n",
    "        loss = criterion(logits, labels)\n",
    "        loss.backward()\n",
    "        optimizer.step()\n",
    "\n",
    "        # save predictions and true labels\n",
    "        predicted_labels.append(logits.argmax(dim=1).detach().cpu())\n",
    "        true_labels.append(labels.cpu())\n",
    "\n",
    "        train_loss += loss.item() * images.shape[0]\n",
    "        train_accuracy += (logits.detach().argmax(dim=1) == labels).sum().item()\n",
    "\n",
    "    train_loss /= len(train_loader.dataset)\n",
    "    train_accuracy /= len(train_loader.dataset)\n",
    "\n",
    "    predicted_labels = torch.concat(predicted_labels)\n",
    "    true_labels = torch.concat(true_labels)\n",
    "    matrix = get_confusion_matrix(predicted_labels, true_labels)\n",
    "\n",
    "    return train_loss, train_accuracy, matrix\n",
    "\n",
    "\n",
    "@torch.no_grad()\n",
    "def val_loop(model, criterion, val_loader) -> tuple:\n",
    "    val_loss, val_accuracy = 0.0, 0.0\n",
    "    predicted_labels = []\n",
    "    true_labels = []\n",
    "\n",
    "    model.eval()\n",
    "\n",
    "    for images, labels in tqdm(val_loader, desc='Validating'):\n",
    "        images = images.to(device)\n",
    "        labels = labels.to(device)\n",
    "\n",
    "        with torch.no_grad():\n",
    "            logits = model(images)\n",
    "            # logits: batch_size x num_classes\n",
    "            loss = criterion(logits, labels)\n",
    "\n",
    "        # save predictions and true labels\n",
    "        predicted_labels.append(logits.argmax(dim=1).cpu())\n",
    "        true_labels.append(labels.cpu())\n",
    "\n",
    "        val_loss += loss.item() * images.shape[0]\n",
    "        val_accuracy += (logits.argmax(dim=1) == labels).sum().item()\n",
    "\n",
    "    val_loss /= len(val_loader.dataset)\n",
    "    val_accuracy /= len(val_loader.dataset)\n",
    "\n",
    "    predicted_labels = torch.concat(predicted_labels)\n",
    "    true_labels = torch.concat(true_labels)\n",
    "    matrix = get_confusion_matrix(predicted_labels, true_labels)\n",
    "\n",
    "    return val_loss, val_accuracy, matrix\n",
    "\n",
    "\n",
    "def plot(epochs: list[int], train_losses: list[float], val_losses: list[float], baseline_rmse: float, plot_baseline: bool):\n",
    "    if plot_baseline:\n",
    "        plt.axhline(baseline_rmse, linestyle='dashed', label='baseline')\n",
    "    plt.plot(epochs, train_losses, label='train')\n",
    "    plt.plot(epochs, val_losses, label='test')\n",
    "    plt.title('RMSE')\n",
    "    plt.ylabel('RMSE')\n",
    "    plt.xlabel('Epoch')\n",
    "    plt.legend(loc='upper right')\n",
    "    plt.show()\n",
    "\n",
    "\n",
    "def plot_losses(train_losses, val_losses, train_accuracies, val_accuracies, confusion_matrix_train: pd.DataFrame, confusion_matrix_val: pd.DataFrame):\n",
    "    clear_output()\n",
    "    assert len(train_losses) == len(val_losses) == len(train_accuracies) == len(val_accuracies)\n",
    "    fig, axs = plt.subplots(1, 2, figsize=(13, 4))\n",
    "    x_epochs = list(range(1, len(train_losses) + 1))\n",
    "    axs[0].plot(x_epochs, train_losses, label='train')\n",
    "    axs[0].plot(x_epochs, val_losses, label='val')\n",
    "    axs[0].set_xticks(x_epochs, labels=x_epochs)\n",
    "    axs[0].set_ylabel('loss')\n",
    "\n",
    "    axs[1].plot(range(1, len(train_accuracies) + 1), train_accuracies, label='train')\n",
    "    axs[1].plot(range(1, len(val_accuracies) + 1), val_accuracies, label='val')\n",
    "    axs[1].set_xticks(x_epochs, labels=x_epochs)\n",
    "    axs[1].set_ylabel('accuracy')\n",
    "\n",
    "    for ax in axs:\n",
    "        ax.set_xlabel('epoch')\n",
    "        ax.legend()\n",
    "\n",
    "    plt.show()\n",
    "\n",
    "    print('Confusion matrix train:')\n",
    "    print(confusion_matrix_train)\n",
    "    \n",
    "    print('Confusion matrix val:')\n",
    "    print(confusion_matrix_val)\n",
    "\n",
    "\n",
    "def train_nn(model, optimizer, criterion, scheduler, train_loader, val_loader, n_epochs: int, log_wandb: bool):\n",
    "    train_losses, train_accuracies, val_losses, val_accuracies = [], [], [], []\n",
    "    lrs = []\n",
    "\n",
    "    for epoch in range(1, n_epochs + 1):\n",
    "        # Train\n",
    "        start_time = timer()\n",
    "        train_loss, train_accuracy, confusion_matrix_train = train_loop(model, optimizer, criterion, train_loader)\n",
    "        train_time = timer() - start_time\n",
    "        train_losses += [train_loss]\n",
    "        train_accuracies += [train_accuracy]\n",
    "\n",
    "        # Validation\n",
    "        start_time = timer()\n",
    "        val_loss, val_accuracy, confusion_matrix_val = val_loop(model, criterion, val_loader)\n",
    "        val_time = timer() - start_time\n",
    "        val_losses += [val_loss]\n",
    "        val_accuracies += [val_accuracy]\n",
    "\n",
    "        # Log lr used on current epoch\n",
    "        lr = next(iter(optimizer.param_groups))['lr']\n",
    "        lrs.append(lr)\n",
    "\n",
    "        # Scheduler\n",
    "        if scheduler is not None:\n",
    "            scheduler.step(val_loss)\n",
    "\n",
    "        # Log record\n",
    "        record = {\n",
    "            'train_loss': train_loss,\n",
    "            'val_loss': val_loss,\n",
    "            'lr': lr,\n",
    "            'train_time': train_time,\n",
    "            'val_time': val_time,\n",
    "        }\n",
    "        if log_wandb:\n",
    "            wandb.log(record)\n",
    "\n",
    "        # Plot\n",
    "        plot_losses(train_losses, val_losses, train_accuracies, val_accuracies, confusion_matrix_train, confusion_matrix_val)\n",
    "    if log_wandb:\n",
    "        wandb.finish()"
   ]
  },
  {
   "attachments": {},
   "cell_type": "markdown",
   "metadata": {},
   "source": [
    "# Data (TODO: IMPORT HERE DATALOADERS)"
   ]
  },
  {
   "cell_type": "code",
   "execution_count": 22,
   "metadata": {},
   "outputs": [
    {
     "name": "stdout",
     "output_type": "stream",
     "text": [
      "Train size: 6777. Val size: 2261. Val ratio: 25.02%\n"
     ]
    }
   ],
   "source": [
    "import torchvision.transforms as T\n",
    "from loader import get_dataloaders\n",
    "\n",
    "# make dataloaders\n",
    "TARGET_SIZE = 32\n",
    "transform = T.Compose([T.ToTensor(), T.Resize((TARGET_SIZE, TARGET_SIZE))])\n",
    "train_loader, val_loader = get_dataloaders('../data', train_transform=transform, test_transform=transform, transform_name=f'Resize({TARGET_SIZE}, {TARGET_SIZE})')\n",
    "\n",
    "# show dataset size\n",
    "TRAIN_SIZE = len(train_loader.dataset)\n",
    "VAL_SIZE = len(val_loader.dataset)\n",
    "print(f'Train size: {TRAIN_SIZE}. Val size: {VAL_SIZE}. Val ratio: {VAL_SIZE / (TRAIN_SIZE + VAL_SIZE) * 100:.2f}%')"
   ]
  },
  {
   "attachments": {},
   "cell_type": "markdown",
   "metadata": {},
   "source": [
    "# Model"
   ]
  },
  {
   "cell_type": "code",
   "execution_count": 23,
   "metadata": {
    "collapsed": false,
    "pycharm": {
     "name": "#%%\n"
    }
   },
   "outputs": [],
   "source": [
    "class LeNet(nn.Module):\n",
    "    N_CLASSES = 3\n",
    "\n",
    "    def __init__(self, image_channels=1):\n",
    "        super().__init__()\n",
    "        self.encoder = nn.Sequential(  # 32 x 32\n",
    "            nn.Conv2d(in_channels=image_channels, out_channels=6, kernel_size=5),  # 28 x 28\n",
    "            nn.Tanh(),\n",
    "            nn.AvgPool2d(2),  # 14 x 14\n",
    "            nn.Conv2d(in_channels=6, out_channels=16, kernel_size=5),  # 10 x 10\n",
    "            nn.Tanh(),\n",
    "            nn.AvgPool2d(2),  # 5 x 5\n",
    "            nn.Conv2d(in_channels=16, out_channels=120, kernel_size=5)  # 1 x 1\n",
    "        )\n",
    "\n",
    "        self.head = nn.Sequential(\n",
    "            nn.Linear(in_features=120, out_features=84),\n",
    "            nn.Tanh(),\n",
    "            nn.Linear(in_features=84, out_features=self.N_CLASSES)\n",
    "        )\n",
    "\n",
    "    def forward(self, x):\n",
    "        # x: B x 1 x 32 x 32\n",
    "        out = self.encoder(x)\n",
    "        # out: B x 120 x 1 x 1\n",
    "        out = out.squeeze(-1).squeeze(-1)\n",
    "        # out: B x 120\n",
    "        out = self.head(out)\n",
    "        # out: B x 10\n",
    "        return out"
   ]
  },
  {
   "attachments": {},
   "cell_type": "markdown",
   "metadata": {},
   "source": [
    "# Actual training"
   ]
  },
  {
   "cell_type": "code",
   "execution_count": 24,
   "metadata": {
    "collapsed": false,
    "pycharm": {
     "name": "#%%\n"
    }
   },
   "outputs": [
    {
     "data": {
      "image/png": "[encoded data removed]",
      "text/plain": [
       "<Figure size 1300x400 with 2 Axes>"
      ]
     },
     "metadata": {},
     "output_type": "display_data"
    },
    {
     "name": "stdout",
     "output_type": "stream",
     "text": [
      "Confusion matrix train:\n",
      "          pred_0    pred_1    pred_2\n",
      "true_0  0.399471  0.279982  0.320547\n",
      "true_1  0.232950  0.578831  0.188220\n",
      "true_2  0.206575  0.149711  0.643714\n",
      "Confusion matrix val:\n",
      "          pred_0    pred_1    pred_2\n",
      "true_0  0.453104  0.331572  0.215324\n",
      "true_1  0.277556  0.564409  0.158035\n",
      "true_2  0.291611  0.170439  0.537949\n",
      "Success\n"
     ]
    }
   ],
   "source": [
    "LOG_WANDB = False\n",
    "N_EPOCHS = 20\n",
    "IMAGE_CHANNELS = 3\n",
    "\n",
    "model = LeNet(image_channels=IMAGE_CHANNELS).to(device)\n",
    "\n",
    "LR = 1e-2\n",
    "MOMENTUM = 0.9\n",
    "optimizer = torch.optim.SGD(model.parameters(), lr=LR, momentum=MOMENTUM)\n",
    "scheduler = torch.optim.lr_scheduler.CosineAnnealingLR(optimizer, T_max=N_EPOCHS)\n",
    "criterion = nn.CrossEntropyLoss()\n",
    "\n",
    "experiment_name = f'MNIST'\n",
    "notes = f'''\n",
    "Optimizer: SGD({LR=}, {MOMENTUM=})\n",
    "Scheduler: CosineAnnealingLR(T_max={N_EPOCHS})\n",
    "'''\n",
    "\n",
    "if LOG_WANDB:\n",
    "    wandb.init(\n",
    "        project='Oil neural network',\n",
    "        name=experiment_name,\n",
    "        notes=notes\n",
    "    )\n",
    "\n",
    "try:\n",
    "    torch.manual_seed(0)\n",
    "    train_nn(model, optimizer, criterion, scheduler, train_loader=train_loader, val_loader=val_loader, n_epochs=N_EPOCHS, log_wandb=LOG_WANDB)\n",
    "except KeyboardInterrupt:\n",
    "    print('KeyboardInterrupt')\n",
    "    if LOG_WANDB:\n",
    "        wandb.finish()\n",
    "\n",
    "print('Success')"
   ]
  },
  {
   "cell_type": "code",
   "execution_count": null,
   "metadata": {
    "collapsed": false,
    "pycharm": {
     "name": "#%%\n"
    }
   },
   "outputs": [],
   "source": []
  }
 ],
 "metadata": {
  "kernelspec": {
   "display_name": "Python 3",
   "language": "python",
   "name": "python3"
  },
  "language_info": {
   "codemirror_mode": {
    "name": "ipython",
    "version": 3
   },
   "file_extension": ".py",
   "mimetype": "text/x-python",
   "name": "python",
   "nbconvert_exporter": "python",
   "pygments_lexer": "ipython3",
   "version": "3.10.10"
  }
 },
 "nbformat": 4,
 "nbformat_minor": 0
}
